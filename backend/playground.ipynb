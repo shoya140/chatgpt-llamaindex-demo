{
 "cells": [
  {
   "cell_type": "code",
   "execution_count": 2,
   "metadata": {},
   "outputs": [],
   "source": [
    "from llama_index import VectorStoreIndex, SimpleDirectoryReader, ServiceContext, LLMPredictor, StorageContext, load_index_from_storage\n",
    "from langchain.chat_models import ChatOpenAI"
   ]
  },
  {
   "cell_type": "code",
   "execution_count": 3,
   "metadata": {},
   "outputs": [],
   "source": [
    "llm = ChatOpenAI(model_name=\"gpt-3.5-turbo\", temperature=0, streaming=True)\n",
    "llm_predictor = LLMPredictor(llm=llm)\n",
    "service_context = ServiceContext.from_defaults(llm_predictor=llm_predictor)"
   ]
  },
  {
   "cell_type": "code",
   "execution_count": 4,
   "metadata": {},
   "outputs": [],
   "source": [
    "index_name = \"blog\"\n",
    "\n",
    "documents = SimpleDirectoryReader(input_dir=\"./document/\"+index_name).load_data()\n",
    "index = VectorStoreIndex.from_documents(documents, service_context=service_context)\n",
    "index.set_index_id(\"vector_index\")\n",
    "index.storage_context.persist(\"./storage/\"+index_name)\n",
    "\n",
    "# storage_context = StorageContext.from_defaults(persist_dir='./storage/sbxd')\n",
    "# index = load_index_from_storage(storage_context, 'vector_index', service_context=service_context)"
   ]
  },
  {
   "cell_type": "code",
   "execution_count": 4,
   "metadata": {},
   "outputs": [
    {
     "name": "stdout",
     "output_type": "stream",
     "text": [
      "大阪公立大学は、大阪府立大学と大阪市立大学の統合によって2022年に新しく設置された日本の公立大学である。略称は公大、阪公大、公立大、OMU。開学理念は「総合知で、超えていく大学。」であり、大阪の都市問題解決や産業の競争力強化に貢献することを目指している。"
     ]
    }
   ],
   "source": [
    "query_engine = index.as_query_engine(\n",
    "    streaming=True,\n",
    "    similarity_top_k=1\n",
    ")\n",
    "response = query_engine.query(\n",
    "    \"大阪公立大学とは？\", \n",
    ")\n",
    "response.print_response_stream()"
   ]
  },
  {
   "cell_type": "code",
   "execution_count": null,
   "metadata": {},
   "outputs": [],
   "source": []
  }
 ],
 "metadata": {
  "kernelspec": {
   "display_name": "Python 3 (ipykernel)",
   "language": "python",
   "name": "python3"
  },
  "language_info": {
   "codemirror_mode": {
    "name": "ipython",
    "version": 3
   },
   "file_extension": ".py",
   "mimetype": "text/x-python",
   "name": "python",
   "nbconvert_exporter": "python",
   "pygments_lexer": "ipython3",
   "version": "3.11.3"
  }
 },
 "nbformat": 4,
 "nbformat_minor": 2
}
